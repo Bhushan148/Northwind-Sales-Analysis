{
 "cells": [
  {
   "cell_type": "markdown",
   "id": "e7fc1e17",
   "metadata": {
    "deletable": false,
    "editable": false,
    "run_control": {
     "frozen": true
    }
   },
   "source": [
    "# Northwind Sales Analysis Project"
   ]
  },
  {
   "cell_type": "markdown",
   "id": "00e98213",
   "metadata": {
    "deletable": false,
    "editable": false,
    "run_control": {
     "frozen": true
    }
   },
   "source": [
    "- **Project Description :**\n",
    "          *This project, \"Northwind Sales Analysis Project,\" focuses on creating an interactive dashboard using Python and SQL to analyze sales performance and customer trends from the Northwind database. The dashboard includes visualizations and insights on :*\n",
    "> - Yearly Sales Trends: Explore yearly sales trends across products and categories.\n",
    "> - Top Products and Customers: Identify top-selling products and high-value customers.\n",
    "> - Employee Sales Performance: Evaluate sales contributions by employees.\n",
    "> - Monthly Sales Performance: Track monthly sales performance to identify seasonal trends.\n",
    "> - Customer Distribution: Analyze customer distribution by country groups.\n",
    "> - Average Delivery Time: Assess average delivery times by shipping companies.\n",
    "> - Year-over-Year Growth: Calculate year-over-year growth in sales.\n",
    "> - Revenue Contribution by Shippers: Understand revenue contributions from different shipping companies.\n",
    "> - Product Performance by Region: Analyze product sales    performance across different regions.\n",
    "> - Sales Forecasting: Predict future sales trends using historical data."
   ]
  },
  {
   "cell_type": "markdown",
   "id": "79b72c38",
   "metadata": {
    "deletable": false,
    "editable": false,
    "run_control": {
     "frozen": true
    }
   },
   "source": [
    "- **Technologies Used :**\n",
    "    - *SQL: For querying the dataset to extract valuable insights.*\n",
    "    - *Python: For connecting to the SQL database using mysql.connector and performing further analysis.*\n",
    "    - *Pandas: For data manipulation and analysis.*\n",
    "    - *Matplotlib and Seaborn: For data visualization.*\n",
    "    - *Jupyter Notebook: For creating interactive and shareable reports.*"
   ]
  },
  {
   "cell_type": "markdown",
   "id": "bcf2f13b",
   "metadata": {
    "deletable": false,
    "editable": false,
    "run_control": {
     "frozen": true
    }
   },
   "source": [
    "- **Goals :**\n",
    "    - *Provide actionable insights for marketing strategies, and sales Analysis.*\n",
    "    - *Improve decision-making processes based on historical sales data.*\n",
    "    - *Enhance understanding of customer behavior and regional sales patterns.*"
   ]
  },
  {
   "cell_type": "markdown",
   "id": "80d159f0",
   "metadata": {
    "deletable": false,
    "editable": false,
    "run_control": {
     "frozen": true
    }
   },
   "source": [
    "## Table Contents\n",
    "\n",
    "> 1. <a href=\"#1.-Annual-Sales-Revenue\">Annual Sales Revenue</a>\n",
    "> 1. <a href=\"#2.-Best-Selling-Products-by-Quantity\">Best-Selling Products by Quantity</a>\n",
    "> 1. <a href=\"#3.-Total-Sales-by-Product-Category\">Total Sales by Product Category</a>\n",
    "> 1. <a href=\"#4.-Employee-Sales-Performance\">Employee Sales Performance</a>\n",
    "> 1. <a href=\"#5.-Monthly-Sales-Trend\">Monthly Sales Trend</a>\n",
    "> 1. <a href=\"#6.-Customer-Distribution-by-Country\">Customer Distribution by Country</a>\n",
    "> 1. <a href=\"#7.-Average-Delivery-Time-by-Shipper\">Average Delivery Time by Shipper</a>\n",
    "> 1. <a href=\"#8.-Quarterly-Sales-and-Year-over-Year-Growth\">Quarterly Sales and Year-over-Year Growth</a>\n",
    "> 1. <a href=\"#9.-Revenue-by-Shipping-Company\">Revenue by Shipping Company</a>\n",
    "> 1. <a href=\"#10.-Monthly-Sales-Performance-by-Region\">Monthly Sales Performance by Region</a>"
   ]
  },
  {
   "cell_type": "code",
   "execution_count": 5,
   "id": "3a40fc41",
   "metadata": {},
   "outputs": [],
   "source": [
    "# Imorting Libraries\n",
    "\n",
    "import pandas as pd\n",
    "import warnings\n",
    "warnings.filterwarnings('ignore')\n",
    "import matplotlib.pyplot as plt\n",
    "import seaborn as sns"
   ]
  },
  {
   "cell_type": "code",
   "execution_count": 7,
   "id": "8aad5d3f",
   "metadata": {},
   "outputs": [],
   "source": [
    "# MySQL Database Connection\n",
    "\n",
    "import mysql.connector\n",
    "\n",
    "mydb = mysql.connector.connect(\n",
    "  host=\"localhost\",\n",
    "  user=\"root\",\n",
    "  password=\"XXXXXXXXXXX\",\n",
    "  database=\"northwind\"\n",
    ")\n"
   ]
  },
  {
   "cell_type": "code",
   "execution_count": 8,
   "id": "2870b2c8",
   "metadata": {},
   "outputs": [
    {
     "data": {
      "text/plain": [
       "<mysql.connector.connection_cext.CMySQLConnection at 0x1ba8ce46110>"
      ]
     },
     "execution_count": 8,
     "metadata": {},
     "output_type": "execute_result"
    }
   ],
   "source": [
    "mydb"
   ]
  },
  {
   "cell_type": "code",
   "execution_count": 13,
   "id": "6476e601",
   "metadata": {},
   "outputs": [
    {
     "data": {
      "text/html": [
       "<div>\n",
       "<style scoped>\n",
       "    .dataframe tbody tr th:only-of-type {\n",
       "        vertical-align: middle;\n",
       "    }\n",
       "\n",
       "    .dataframe tbody tr th {\n",
       "        vertical-align: top;\n",
       "    }\n",
       "\n",
       "    .dataframe thead th {\n",
       "        text-align: right;\n",
       "    }\n",
       "</style>\n",
       "<table border=\"1\" class=\"dataframe\">\n",
       "  <thead>\n",
       "    <tr style=\"text-align: right;\">\n",
       "      <th></th>\n",
       "      <th>Tables_in_northwind</th>\n",
       "    </tr>\n",
       "  </thead>\n",
       "  <tbody>\n",
       "    <tr>\n",
       "      <th>0</th>\n",
       "      <td>categories</td>\n",
       "    </tr>\n",
       "    <tr>\n",
       "      <th>1</th>\n",
       "      <td>customers</td>\n",
       "    </tr>\n",
       "    <tr>\n",
       "      <th>2</th>\n",
       "      <td>employees</td>\n",
       "    </tr>\n",
       "    <tr>\n",
       "      <th>3</th>\n",
       "      <td>employeeterritories</td>\n",
       "    </tr>\n",
       "    <tr>\n",
       "      <th>4</th>\n",
       "      <td>orderdetails</td>\n",
       "    </tr>\n",
       "    <tr>\n",
       "      <th>5</th>\n",
       "      <td>orders</td>\n",
       "    </tr>\n",
       "    <tr>\n",
       "      <th>6</th>\n",
       "      <td>products</td>\n",
       "    </tr>\n",
       "    <tr>\n",
       "      <th>7</th>\n",
       "      <td>region</td>\n",
       "    </tr>\n",
       "    <tr>\n",
       "      <th>8</th>\n",
       "      <td>shippers</td>\n",
       "    </tr>\n",
       "    <tr>\n",
       "      <th>9</th>\n",
       "      <td>suppliers</td>\n",
       "    </tr>\n",
       "    <tr>\n",
       "      <th>10</th>\n",
       "      <td>territories</td>\n",
       "    </tr>\n",
       "  </tbody>\n",
       "</table>\n",
       "</div>"
      ],
      "text/plain": [
       "    Tables_in_northwind\n",
       "0            categories\n",
       "1             customers\n",
       "2             employees\n",
       "3   employeeterritories\n",
       "4          orderdetails\n",
       "5                orders\n",
       "6              products\n",
       "7                region\n",
       "8              shippers\n",
       "9             suppliers\n",
       "10          territories"
      ]
     },
     "execution_count": 13,
     "metadata": {},
     "output_type": "execute_result"
    }
   ],
   "source": [
    "tables = pd.read_sql_query(\n",
    "\"\"\"\n",
    "show tables\n",
    "\"\"\"\n",
    ", mydb)\n",
    "df"
   ]
  },
  {
   "cell_type": "code",
   "execution_count": 14,
   "id": "ade76482",
   "metadata": {},
   "outputs": [
    {
     "name": "stdout",
     "output_type": "stream",
     "text": [
      "\n",
      "Structure of table categories:\n",
      "          Field         Type Null  Key Default           Extra\n",
      "0    CategoryID          int   NO  PRI    None  auto_increment\n",
      "1  CategoryName  varchar(15)   NO  MUL    None                \n",
      "2   Description   mediumtext  YES         None                \n",
      "3       Picture     longblob  YES         None                \n",
      "\n",
      "Structure of table customers:\n",
      "           Field         Type Null  Key Default Extra\n",
      "0     CustomerID   varchar(5)   NO  PRI    None      \n",
      "1    CompanyName  varchar(40)   NO  MUL    None      \n",
      "2    ContactName  varchar(30)  YES         None      \n",
      "3   ContactTitle  varchar(30)  YES         None      \n",
      "4        Address  varchar(60)  YES         None      \n",
      "5           City  varchar(15)  YES  MUL    None      \n",
      "6         Region  varchar(15)  YES  MUL    None      \n",
      "7     PostalCode  varchar(10)  YES  MUL    None      \n",
      "8        Country  varchar(15)  YES         None      \n",
      "9          Phone  varchar(24)  YES         None      \n",
      "10           Fax  varchar(24)  YES         None      \n",
      "\n",
      "Structure of table employees:\n",
      "              Field          Type Null  Key Default           Extra\n",
      "0        EmployeeID           int   NO  PRI    None  auto_increment\n",
      "1          LastName   varchar(20)   NO  MUL    None                \n",
      "2         FirstName   varchar(10)   NO         None                \n",
      "3             Title   varchar(30)  YES         None                \n",
      "4   TitleOfCourtesy   varchar(25)  YES         None                \n",
      "5         BirthDate      datetime  YES         None                \n",
      "6          HireDate      datetime  YES         None                \n",
      "7           Address   varchar(60)  YES         None                \n",
      "8              City   varchar(15)  YES         None                \n",
      "9            Region   varchar(15)  YES         None                \n",
      "10       PostalCode   varchar(10)  YES  MUL    None                \n",
      "11          Country   varchar(15)  YES         None                \n",
      "12        HomePhone   varchar(24)  YES         None                \n",
      "13        Extension    varchar(4)  YES         None                \n",
      "14            Notes    mediumtext   NO         None                \n",
      "15        ReportsTo           int  YES  MUL    None                \n",
      "16        PhotoPath  varchar(255)  YES         None                \n",
      "17           Salary         float  YES         None                \n",
      "\n",
      "Structure of table employeeterritories:\n",
      "         Field         Type Null  Key Default Extra\n",
      "0   EmployeeID          int   NO  PRI    None      \n",
      "1  TerritoryID  varchar(20)   NO  PRI    None      \n",
      "\n",
      "Structure of table orderdetails:\n",
      "       Field           Type Null  Key Default Extra\n",
      "0    OrderID            int   NO  PRI    None      \n",
      "1  ProductID            int   NO  PRI    None      \n",
      "2  UnitPrice  decimal(10,4)   NO       0.0000      \n",
      "3   Quantity       smallint   NO            1      \n",
      "4   Discount    double(8,0)   NO            0      \n",
      "\n",
      "Structure of table orders:\n",
      "             Field           Type Null  Key Default           Extra\n",
      "0          OrderID            int   NO  PRI    None  auto_increment\n",
      "1       CustomerID     varchar(5)  YES  MUL    None                \n",
      "2       EmployeeID            int  YES  MUL    None                \n",
      "3        OrderDate       datetime  YES  MUL    None                \n",
      "4     RequiredDate       datetime  YES         None                \n",
      "5      ShippedDate       datetime  YES  MUL    None                \n",
      "6          ShipVia            int  YES  MUL    None                \n",
      "7          Freight  decimal(10,4)  YES       0.0000                \n",
      "8         ShipName    varchar(40)  YES         None                \n",
      "9      ShipAddress    varchar(60)  YES         None                \n",
      "10        ShipCity    varchar(15)  YES         None                \n",
      "11      ShipRegion    varchar(15)  YES         None                \n",
      "12  ShipPostalCode    varchar(10)  YES  MUL    None                \n",
      "13     ShipCountry    varchar(15)  YES         None                \n",
      "\n",
      "Structure of table products:\n",
      "             Field           Type Null  Key Default           Extra\n",
      "0        ProductID            int   NO  PRI    None  auto_increment\n",
      "1      ProductName    varchar(40)   NO  MUL    None                \n",
      "2       SupplierID            int  YES  MUL    None                \n",
      "3       CategoryID            int  YES  MUL    None                \n",
      "4  QuantityPerUnit    varchar(20)  YES         None                \n",
      "5        UnitPrice  decimal(10,4)  YES       0.0000                \n",
      "6     UnitsInStock       smallint  YES            0                \n",
      "7     UnitsOnOrder       smallint  YES            0                \n",
      "8     ReorderLevel       smallint  YES            0                \n",
      "9     Discontinued         bit(1)   NO         b'0'                \n",
      "\n",
      "Structure of table region:\n",
      "               Field         Type Null  Key Default Extra\n",
      "0           RegionID          int   NO  PRI    None      \n",
      "1  RegionDescription  varchar(50)   NO         None      \n",
      "\n",
      "Structure of table shippers:\n",
      "         Field         Type Null  Key Default           Extra\n",
      "0    ShipperID          int   NO  PRI    None  auto_increment\n",
      "1  CompanyName  varchar(40)   NO         None                \n",
      "2        Phone  varchar(24)  YES         None                \n",
      "\n",
      "Structure of table suppliers:\n",
      "           Field         Type Null  Key Default           Extra\n",
      "0     SupplierID          int   NO  PRI    None  auto_increment\n",
      "1    CompanyName  varchar(40)   NO  MUL    None                \n",
      "2    ContactName  varchar(30)  YES         None                \n",
      "3   ContactTitle  varchar(30)  YES         None                \n",
      "4        Address  varchar(60)  YES         None                \n",
      "5           City  varchar(15)  YES         None                \n",
      "6         Region  varchar(15)  YES         None                \n",
      "7     PostalCode  varchar(10)  YES  MUL    None                \n",
      "8        Country  varchar(15)  YES         None                \n",
      "9          Phone  varchar(24)  YES         None                \n",
      "10           Fax  varchar(24)  YES         None                \n",
      "11      HomePage   mediumtext  YES         None                \n",
      "\n",
      "Structure of table territories:\n",
      "                  Field         Type Null  Key Default Extra\n",
      "0           TerritoryID  varchar(20)   NO  PRI    None      \n",
      "1  TerritoryDescription  varchar(50)   NO         None      \n",
      "2              RegionID          int   NO  MUL    None      \n"
     ]
    }
   ],
   "source": [
    "# Describe All tables\n",
    "for table in tables.Tables_in_northwind:\n",
    "    print(f\"\\nStructure of table {table}:\")\n",
    "    table_description = pd.read_sql_query(f\"DESCRIBE {table}\", mydb)\n",
    "    print(table_description)"
   ]
  },
  {
   "cell_type": "markdown",
   "id": "36eadce6",
   "metadata": {
    "deletable": false,
    "editable": false,
    "run_control": {
     "frozen": true
    }
   },
   "source": [
    "### 1. Annual Sales Revenue"
   ]
  },
  {
   "cell_type": "code",
   "execution_count": 15,
   "id": "4b9366d0",
   "metadata": {},
   "outputs": [
    {
     "data": {
      "text/html": [
       "<div>\n",
       "<style scoped>\n",
       "    .dataframe tbody tr th:only-of-type {\n",
       "        vertical-align: middle;\n",
       "    }\n",
       "\n",
       "    .dataframe tbody tr th {\n",
       "        vertical-align: top;\n",
       "    }\n",
       "\n",
       "    .dataframe thead th {\n",
       "        text-align: right;\n",
       "    }\n",
       "</style>\n",
       "<table border=\"1\" class=\"dataframe\">\n",
       "  <thead>\n",
       "    <tr style=\"text-align: right;\">\n",
       "      <th></th>\n",
       "      <th>OrderYear</th>\n",
       "      <th>Year_wise_sale</th>\n",
       "    </tr>\n",
       "  </thead>\n",
       "  <tbody>\n",
       "    <tr>\n",
       "      <th>0</th>\n",
       "      <td>1996</td>\n",
       "      <td>226298.50</td>\n",
       "    </tr>\n",
       "    <tr>\n",
       "      <th>1</th>\n",
       "      <td>1997</td>\n",
       "      <td>658388.75</td>\n",
       "    </tr>\n",
       "    <tr>\n",
       "      <th>2</th>\n",
       "      <td>1998</td>\n",
       "      <td>469771.34</td>\n",
       "    </tr>\n",
       "  </tbody>\n",
       "</table>\n",
       "</div>"
      ],
      "text/plain": [
       "   OrderYear  Year_wise_sale\n",
       "0       1996       226298.50\n",
       "1       1997       658388.75\n",
       "2       1998       469771.34"
      ]
     },
     "execution_count": 15,
     "metadata": {},
     "output_type": "execute_result"
    }
   ],
   "source": [
    "df = pd.read_sql_query(\n",
    "\"\"\"\n",
    "SELECT \n",
    "    YEAR(o.OrderDate) AS OrderYear,\n",
    "    SUM(od.UnitPrice * od.Quantity * (1 - od.Discount)) AS Year_wise_sale\n",
    "FROM orderdetails od\n",
    "JOIN orders o using (OrderID)\n",
    "GROUP BY OrderYear\n",
    "ORDER BY OrderYear\n",
    "\"\"\"\n",
    ", mydb)\n",
    "df"
   ]
  },
  {
   "cell_type": "code",
   "execution_count": 16,
   "id": "c6f9b5af",
   "metadata": {},
   "outputs": [
    {
     "data": {
      "text/plain": [
       "[]"
      ]
     },
     "execution_count": 16,
     "metadata": {},
     "output_type": "execute_result"
    },
    {
     "data": {
      "image/png": "[encoded data removed]",
      "text/plain": [
       "<Figure size 640x480 with 1 Axes>"
      ]
     },
     "metadata": {},
     "output_type": "display_data"
    }
   ],
   "source": [
    "plt.pie(df.Year_wise_sale, labels=df.OrderYear, autopct='%.1f%%',\n",
    "        wedgeprops={'linewidth': 2.0, 'edgecolor': 'white'},\n",
    "        textprops={'size': 'x-large'},\n",
    "       startangle=90)\n",
    "plt.title('Yearly Sales for Each Product')\n",
    "plt.plot()"
   ]
  },
  {
   "cell_type": "markdown",
   "id": "b43b2d64",
   "metadata": {
    "deletable": false,
    "editable": false,
    "run_control": {
     "frozen": true
    }
   },
   "source": [
    "- **Insight:**\n",
    "\n",
    "    - *The highest annual revenue was achieved in 1997.*\n",
    "    - *Both 1996 and 1998 had lower revenues compared to 1997, indicating a notable fluctuation.*"
   ]
  },
  {
   "cell_type": "markdown",
   "id": "c00a83d3",
   "metadata": {
    "deletable": false,
    "editable": false,
    "run_control": {
     "frozen": true
    }
   },
   "source": [
    "### 2. Best-Selling Products by Quantity"
   ]
  },
  {
   "cell_type": "code",
   "execution_count": 17,
   "id": "850e5138",
   "metadata": {},
   "outputs": [
    {
     "data": {
      "text/html": [
       "<div>\n",
       "<style scoped>\n",
       "    .dataframe tbody tr th:only-of-type {\n",
       "        vertical-align: middle;\n",
       "    }\n",
       "\n",
       "    .dataframe tbody tr th {\n",
       "        vertical-align: top;\n",
       "    }\n",
       "\n",
       "    .dataframe thead th {\n",
       "        text-align: right;\n",
       "    }\n",
       "</style>\n",
       "<table border=\"1\" class=\"dataframe\">\n",
       "  <thead>\n",
       "    <tr style=\"text-align: right;\">\n",
       "      <th></th>\n",
       "      <th>ProductID</th>\n",
       "      <th>productName</th>\n",
       "      <th>TotalQuantity</th>\n",
       "    </tr>\n",
       "  </thead>\n",
       "  <tbody>\n",
       "    <tr>\n",
       "      <th>0</th>\n",
       "      <td>60</td>\n",
       "      <td>Camembert Pierrot</td>\n",
       "      <td>1577.0</td>\n",
       "    </tr>\n",
       "    <tr>\n",
       "      <th>1</th>\n",
       "      <td>59</td>\n",
       "      <td>Raclette Courdavault</td>\n",
       "      <td>1496.0</td>\n",
       "    </tr>\n",
       "    <tr>\n",
       "      <th>2</th>\n",
       "      <td>31</td>\n",
       "      <td>Gorgonzola Telino</td>\n",
       "      <td>1397.0</td>\n",
       "    </tr>\n",
       "    <tr>\n",
       "      <th>3</th>\n",
       "      <td>56</td>\n",
       "      <td>Gnocchi di nonna Alice</td>\n",
       "      <td>1263.0</td>\n",
       "    </tr>\n",
       "    <tr>\n",
       "      <th>4</th>\n",
       "      <td>16</td>\n",
       "      <td>Pavlova</td>\n",
       "      <td>1158.0</td>\n",
       "    </tr>\n",
       "  </tbody>\n",
       "</table>\n",
       "</div>"
      ],
      "text/plain": [
       "   ProductID             productName  TotalQuantity\n",
       "0         60       Camembert Pierrot         1577.0\n",
       "1         59    Raclette Courdavault         1496.0\n",
       "2         31       Gorgonzola Telino         1397.0\n",
       "3         56  Gnocchi di nonna Alice         1263.0\n",
       "4         16                 Pavlova         1158.0"
      ]
     },
     "execution_count": 17,
     "metadata": {},
     "output_type": "execute_result"
    }
   ],
   "source": [
    "df = pd.read_sql_query(\n",
    "\"\"\"\n",
    "SELECT p.ProductID, productName, SUM(od.quantity) AS TotalQuantity\n",
    "FROM products p\n",
    "JOIN orderdetails od using(ProductID)\n",
    "GROUP BY p.ProductID, p.ProductName\n",
    "ORDER BY TotalQuantity desc\n",
    "LIMIT 5\n",
    "\"\"\"\n",
    ", mydb)\n",
    "df"
   ]
  },
  {
   "cell_type": "code",
   "execution_count": 18,
   "id": "bd2c31b6",
   "metadata": {},
   "outputs": [
    {
     "data": {
      "text/plain": [
       "[]"
      ]
     },
     "execution_count": 18,
     "metadata": {},
     "output_type": "execute_result"
    },
    {
     "data": {
      "image/png": "[encoded data removed]",
      "text/plain": [
       "<Figure size 1000x400 with 1 Axes>"
      ]
     },
     "metadata": {},
     "output_type": "display_data"
    }
   ],
   "source": [
    "plt.figure(figsize=(10, 4))\n",
    "sns.barplot(x=df.ProductID,\n",
    "            y=df.TotalQuantity, data=df)\n",
    "plt.plot()"
   ]
  },
  {
   "cell_type": "markdown",
   "id": "1f38d1ed",
   "metadata": {
    "deletable": false,
    "editable": false,
    "run_control": {
     "frozen": true
    }
   },
   "source": [
    "- **Insight:**\n",
    "\n",
    "    - *\"Camembert Pierrot\" is the best-selling product with a total of 1,577 units sold.*\n",
    "    - *The next top products include \"Raclette Courdavault\" and \"Gorgonzola Telino,\" with sales of 1,496 and 1,397 units respectively.*"
   ]
  },
  {
   "cell_type": "markdown",
   "id": "6037db1d",
   "metadata": {
    "deletable": false,
    "editable": false,
    "run_control": {
     "frozen": true
    }
   },
   "source": [
    "### 3. Total Sales by Product Category"
   ]
  },
  {
   "cell_type": "code",
   "execution_count": 19,
   "id": "2bb7806d",
   "metadata": {},
   "outputs": [
    {
     "data": {
      "text/html": [
       "<div>\n",
       "<style scoped>\n",
       "    .dataframe tbody tr th:only-of-type {\n",
       "        vertical-align: middle;\n",
       "    }\n",
       "\n",
       "    .dataframe tbody tr th {\n",
       "        vertical-align: top;\n",
       "    }\n",
       "\n",
       "    .dataframe thead th {\n",
       "        text-align: right;\n",
       "    }\n",
       "</style>\n",
       "<table border=\"1\" class=\"dataframe\">\n",
       "  <thead>\n",
       "    <tr style=\"text-align: right;\">\n",
       "      <th></th>\n",
       "      <th>CategoryName</th>\n",
       "      <th>TotalSales</th>\n",
       "    </tr>\n",
       "  </thead>\n",
       "  <tbody>\n",
       "    <tr>\n",
       "      <th>0</th>\n",
       "      <td>Beverages</td>\n",
       "      <td>286526.95</td>\n",
       "    </tr>\n",
       "    <tr>\n",
       "      <th>1</th>\n",
       "      <td>Dairy Products</td>\n",
       "      <td>251330.50</td>\n",
       "    </tr>\n",
       "    <tr>\n",
       "      <th>2</th>\n",
       "      <td>Meat/Poultry</td>\n",
       "      <td>178188.80</td>\n",
       "    </tr>\n",
       "    <tr>\n",
       "      <th>3</th>\n",
       "      <td>Confections</td>\n",
       "      <td>177099.10</td>\n",
       "    </tr>\n",
       "    <tr>\n",
       "      <th>4</th>\n",
       "      <td>Seafood</td>\n",
       "      <td>141623.09</td>\n",
       "    </tr>\n",
       "    <tr>\n",
       "      <th>5</th>\n",
       "      <td>Condiments</td>\n",
       "      <td>113694.75</td>\n",
       "    </tr>\n",
       "    <tr>\n",
       "      <th>6</th>\n",
       "      <td>Produce</td>\n",
       "      <td>105268.60</td>\n",
       "    </tr>\n",
       "    <tr>\n",
       "      <th>7</th>\n",
       "      <td>Grains/Cereals</td>\n",
       "      <td>100726.80</td>\n",
       "    </tr>\n",
       "  </tbody>\n",
       "</table>\n",
       "</div>"
      ],
      "text/plain": [
       "     CategoryName  TotalSales\n",
       "0       Beverages   286526.95\n",
       "1  Dairy Products   251330.50\n",
       "2    Meat/Poultry   178188.80\n",
       "3     Confections   177099.10\n",
       "4         Seafood   141623.09\n",
       "5      Condiments   113694.75\n",
       "6         Produce   105268.60\n",
       "7  Grains/Cereals   100726.80"
      ]
     },
     "execution_count": 19,
     "metadata": {},
     "output_type": "execute_result"
    }
   ],
   "source": [
    "df = pd.read_sql_query(\n",
    "\"\"\"\n",
    "SELECT c.CategoryName, SUM(od.Quantity * od.UnitPrice) AS TotalSales\n",
    "FROM orderdetails od\n",
    "JOIN products p ON od.ProductID = p.ProductID\n",
    "JOIN categories c ON p.CategoryID = c.CategoryID\n",
    "GROUP BY c.CategoryName\n",
    "ORDER BY TotalSales DESC;\n",
    "\"\"\"\n",
    ", mydb)\n",
    "df"
   ]
  },
  {
   "cell_type": "code",
   "execution_count": 20,
   "id": "e02cb4fd",
   "metadata": {},
   "outputs": [
    {
     "data": {
      "image/png": "[encoded data removed]",
      "text/plain": [
       "<Figure size 1000x200 with 1 Axes>"
      ]
     },
     "metadata": {},
     "output_type": "display_data"
    }
   ],
   "source": [
    "# horizontal bar chart\n",
    "plt.figure(figsize=(10, 2))\n",
    "plt.barh(df[\"CategoryName\"], df[\"TotalSales\"], color='skyblue')\n",
    "plt.xlabel('Total Sales')\n",
    "plt.title('Total Sale By Category')\n",
    "plt.gca().invert_yaxis()\n",
    "plt.show()"
   ]
  },
  {
   "cell_type": "markdown",
   "id": "fe916691",
   "metadata": {
    "deletable": false,
    "editable": false,
    "run_control": {
     "frozen": true
    }
   },
   "source": [
    "- **Insight:**\n",
    "\n",
    "    - *\"Beverages\" generated the highest sales, totaling 286,526.95.*\n",
    "    - *\"Dairy Products\" and \"Meat/Poultry\" followed, each contributing significantly to the overall sales, with over 250,000 and 178,000 respectively.*"
   ]
  },
  {
   "cell_type": "markdown",
   "id": "3e314202",
   "metadata": {
    "deletable": false,
    "editable": false,
    "run_control": {
     "frozen": true
    }
   },
   "source": [
    "### 4. Employee Sales Performance"
   ]
  },
  {
   "cell_type": "code",
   "execution_count": 21,
   "id": "053ca577",
   "metadata": {},
   "outputs": [
    {
     "data": {
      "text/html": [
       "<div>\n",
       "<style scoped>\n",
       "    .dataframe tbody tr th:only-of-type {\n",
       "        vertical-align: middle;\n",
       "    }\n",
       "\n",
       "    .dataframe tbody tr th {\n",
       "        vertical-align: top;\n",
       "    }\n",
       "\n",
       "    .dataframe thead th {\n",
       "        text-align: right;\n",
       "    }\n",
       "</style>\n",
       "<table border=\"1\" class=\"dataframe\">\n",
       "  <thead>\n",
       "    <tr style=\"text-align: right;\">\n",
       "      <th></th>\n",
       "      <th>EmployeeID</th>\n",
       "      <th>FirstName</th>\n",
       "      <th>LastName</th>\n",
       "      <th>TotalSales</th>\n",
       "    </tr>\n",
       "  </thead>\n",
       "  <tbody>\n",
       "    <tr>\n",
       "      <th>0</th>\n",
       "      <td>4</td>\n",
       "      <td>Margaret</td>\n",
       "      <td>Peacock</td>\n",
       "      <td>250187.45</td>\n",
       "    </tr>\n",
       "    <tr>\n",
       "      <th>1</th>\n",
       "      <td>3</td>\n",
       "      <td>Janet</td>\n",
       "      <td>Leverling</td>\n",
       "      <td>213051.30</td>\n",
       "    </tr>\n",
       "    <tr>\n",
       "      <th>2</th>\n",
       "      <td>1</td>\n",
       "      <td>Nancy</td>\n",
       "      <td>Davolio</td>\n",
       "      <td>202143.71</td>\n",
       "    </tr>\n",
       "    <tr>\n",
       "      <th>3</th>\n",
       "      <td>2</td>\n",
       "      <td>Andrew</td>\n",
       "      <td>Fuller</td>\n",
       "      <td>177749.26</td>\n",
       "    </tr>\n",
       "    <tr>\n",
       "      <th>4</th>\n",
       "      <td>7</td>\n",
       "      <td>Robert</td>\n",
       "      <td>King</td>\n",
       "      <td>141295.99</td>\n",
       "    </tr>\n",
       "    <tr>\n",
       "      <th>5</th>\n",
       "      <td>8</td>\n",
       "      <td>Laura</td>\n",
       "      <td>Callahan</td>\n",
       "      <td>133301.03</td>\n",
       "    </tr>\n",
       "    <tr>\n",
       "      <th>6</th>\n",
       "      <td>9</td>\n",
       "      <td>Anne</td>\n",
       "      <td>Dodsworth</td>\n",
       "      <td>82964.00</td>\n",
       "    </tr>\n",
       "    <tr>\n",
       "      <th>7</th>\n",
       "      <td>6</td>\n",
       "      <td>Michael</td>\n",
       "      <td>Suyama</td>\n",
       "      <td>78198.10</td>\n",
       "    </tr>\n",
       "    <tr>\n",
       "      <th>8</th>\n",
       "      <td>5</td>\n",
       "      <td>Steven</td>\n",
       "      <td>Buchanan</td>\n",
       "      <td>75567.75</td>\n",
       "    </tr>\n",
       "  </tbody>\n",
       "</table>\n",
       "</div>"
      ],
      "text/plain": [
       "   EmployeeID FirstName   LastName  TotalSales\n",
       "0           4  Margaret    Peacock   250187.45\n",
       "1           3     Janet  Leverling   213051.30\n",
       "2           1     Nancy    Davolio   202143.71\n",
       "3           2    Andrew     Fuller   177749.26\n",
       "4           7    Robert       King   141295.99\n",
       "5           8     Laura   Callahan   133301.03\n",
       "6           9      Anne  Dodsworth    82964.00\n",
       "7           6   Michael     Suyama    78198.10\n",
       "8           5    Steven   Buchanan    75567.75"
      ]
     },
     "execution_count": 21,
     "metadata": {},
     "output_type": "execute_result"
    }
   ],
   "source": [
    "df = pd.read_sql_query(\n",
    "\"\"\"\n",
    "SELECT e.EmployeeID, e.FirstName, e.LastName,\n",
    "    SUM(od.UnitPrice * od.Quantity * (1 - od.Discount)) AS TotalSales\n",
    "FROM employees e\n",
    "JOIN orders o ON e.EmployeeID = o.EmployeeID\n",
    "JOIN orderdetails od ON o.OrderID = od.OrderID\n",
    "GROUP BY e.EmployeeID, e.FirstName, e.LastName\n",
    "ORDER BY TotalSales DESC;\n",
    "\"\"\"\n",
    ", mydb)\n",
    "df"
   ]
  },
  {
   "cell_type": "code",
   "execution_count": 22,
   "id": "851c5e01",
   "metadata": {},
   "outputs": [
    {
     "data": {
      "image/png": "[encoded data removed]",
      "text/plain": [
       "<Figure size 1100x400 with 1 Axes>"
      ]
     },
     "metadata": {},
     "output_type": "display_data"
    }
   ],
   "source": [
    "# bar plot\n",
    "plt.figure(figsize=(11, 4))\n",
    "bar_plot = sns.barplot(\n",
    "    x='FirstName', \n",
    "    y='TotalSales', \n",
    "    data=df, \n",
    "    palette='Blues'  # Choose color palette\n",
    ")\n",
    "\n",
    "# Add labels on the bars\n",
    "for index, row in df.iterrows():\n",
    "    bar_plot.text(\n",
    "        index, \n",
    "        row.TotalSales,\n",
    "        int(row.TotalSales),  # Display total sales as integer\n",
    "        color='black', \n",
    "        ha='center',\n",
    "        va='bottom'  # Align text at the bottom of the bar\n",
    "    )\n",
    "\n",
    "# Add title and labels\n",
    "plt.title('Total Sale by Employee')\n",
    "plt.xlabel('Employee Name')\n",
    "plt.ylabel('Total Sales ($)')\n",
    "\n",
    "# Show the plot\n",
    "plt.show()"
   ]
  },
  {
   "cell_type": "markdown",
   "id": "40ee4714",
   "metadata": {
    "deletable": false,
    "editable": false,
    "run_control": {
     "frozen": true
    }
   },
   "source": [
    "- **Insight:**\n",
    "\n",
    "    - *Margaret Peacock is the top performer with total sales of 250,187.45.*\n",
    "    - *Janet Leverling and Nancy Davolio also have strong sales figures, each exceeding 200,000.*"
   ]
  },
  {
   "cell_type": "markdown",
   "id": "ab921cba",
   "metadata": {
    "deletable": false,
    "editable": false,
    "run_control": {
     "frozen": true
    }
   },
   "source": [
    "### 5. Monthly Sales Trend"
   ]
  },
  {
   "cell_type": "code",
   "execution_count": 23,
   "id": "be0da686",
   "metadata": {
    "scrolled": true
   },
   "outputs": [
    {
     "data": {
      "text/html": [
       "<div>\n",
       "<style scoped>\n",
       "    .dataframe tbody tr th:only-of-type {\n",
       "        vertical-align: middle;\n",
       "    }\n",
       "\n",
       "    .dataframe tbody tr th {\n",
       "        vertical-align: top;\n",
       "    }\n",
       "\n",
       "    .dataframe thead th {\n",
       "        text-align: right;\n",
       "    }\n",
       "</style>\n",
       "<table border=\"1\" class=\"dataframe\">\n",
       "  <thead>\n",
       "    <tr style=\"text-align: right;\">\n",
       "      <th></th>\n",
       "      <th>Month</th>\n",
       "      <th>TotalSales</th>\n",
       "    </tr>\n",
       "  </thead>\n",
       "  <tbody>\n",
       "    <tr>\n",
       "      <th>0</th>\n",
       "      <td>1996-07</td>\n",
       "      <td>30192.10</td>\n",
       "    </tr>\n",
       "    <tr>\n",
       "      <th>1</th>\n",
       "      <td>1996-08</td>\n",
       "      <td>26609.40</td>\n",
       "    </tr>\n",
       "    <tr>\n",
       "      <th>2</th>\n",
       "      <td>1996-09</td>\n",
       "      <td>27636.00</td>\n",
       "    </tr>\n",
       "    <tr>\n",
       "      <th>3</th>\n",
       "      <td>1996-10</td>\n",
       "      <td>41203.60</td>\n",
       "    </tr>\n",
       "    <tr>\n",
       "      <th>4</th>\n",
       "      <td>1996-11</td>\n",
       "      <td>49704.00</td>\n",
       "    </tr>\n",
       "    <tr>\n",
       "      <th>5</th>\n",
       "      <td>1996-12</td>\n",
       "      <td>50953.40</td>\n",
       "    </tr>\n",
       "    <tr>\n",
       "      <th>6</th>\n",
       "      <td>1997-01</td>\n",
       "      <td>66692.80</td>\n",
       "    </tr>\n",
       "    <tr>\n",
       "      <th>7</th>\n",
       "      <td>1997-02</td>\n",
       "      <td>41207.20</td>\n",
       "    </tr>\n",
       "    <tr>\n",
       "      <th>8</th>\n",
       "      <td>1997-03</td>\n",
       "      <td>39979.90</td>\n",
       "    </tr>\n",
       "    <tr>\n",
       "      <th>9</th>\n",
       "      <td>1997-04</td>\n",
       "      <td>55699.39</td>\n",
       "    </tr>\n",
       "    <tr>\n",
       "      <th>10</th>\n",
       "      <td>1997-05</td>\n",
       "      <td>56823.70</td>\n",
       "    </tr>\n",
       "    <tr>\n",
       "      <th>11</th>\n",
       "      <td>1997-06</td>\n",
       "      <td>39088.00</td>\n",
       "    </tr>\n",
       "    <tr>\n",
       "      <th>12</th>\n",
       "      <td>1997-07</td>\n",
       "      <td>55464.93</td>\n",
       "    </tr>\n",
       "    <tr>\n",
       "      <th>13</th>\n",
       "      <td>1997-08</td>\n",
       "      <td>49981.69</td>\n",
       "    </tr>\n",
       "    <tr>\n",
       "      <th>14</th>\n",
       "      <td>1997-09</td>\n",
       "      <td>59733.02</td>\n",
       "    </tr>\n",
       "    <tr>\n",
       "      <th>15</th>\n",
       "      <td>1997-10</td>\n",
       "      <td>70328.50</td>\n",
       "    </tr>\n",
       "    <tr>\n",
       "      <th>16</th>\n",
       "      <td>1997-11</td>\n",
       "      <td>45913.36</td>\n",
       "    </tr>\n",
       "    <tr>\n",
       "      <th>17</th>\n",
       "      <td>1997-12</td>\n",
       "      <td>77476.26</td>\n",
       "    </tr>\n",
       "    <tr>\n",
       "      <th>18</th>\n",
       "      <td>1998-01</td>\n",
       "      <td>100854.72</td>\n",
       "    </tr>\n",
       "    <tr>\n",
       "      <th>19</th>\n",
       "      <td>1998-02</td>\n",
       "      <td>104561.95</td>\n",
       "    </tr>\n",
       "    <tr>\n",
       "      <th>20</th>\n",
       "      <td>1998-03</td>\n",
       "      <td>109825.45</td>\n",
       "    </tr>\n",
       "    <tr>\n",
       "      <th>21</th>\n",
       "      <td>1998-04</td>\n",
       "      <td>134630.56</td>\n",
       "    </tr>\n",
       "    <tr>\n",
       "      <th>22</th>\n",
       "      <td>1998-05</td>\n",
       "      <td>19898.66</td>\n",
       "    </tr>\n",
       "  </tbody>\n",
       "</table>\n",
       "</div>"
      ],
      "text/plain": [
       "      Month  TotalSales\n",
       "0   1996-07    30192.10\n",
       "1   1996-08    26609.40\n",
       "2   1996-09    27636.00\n",
       "3   1996-10    41203.60\n",
       "4   1996-11    49704.00\n",
       "5   1996-12    50953.40\n",
       "6   1997-01    66692.80\n",
       "7   1997-02    41207.20\n",
       "8   1997-03    39979.90\n",
       "9   1997-04    55699.39\n",
       "10  1997-05    56823.70\n",
       "11  1997-06    39088.00\n",
       "12  1997-07    55464.93\n",
       "13  1997-08    49981.69\n",
       "14  1997-09    59733.02\n",
       "15  1997-10    70328.50\n",
       "16  1997-11    45913.36\n",
       "17  1997-12    77476.26\n",
       "18  1998-01   100854.72\n",
       "19  1998-02   104561.95\n",
       "20  1998-03   109825.45\n",
       "21  1998-04   134630.56\n",
       "22  1998-05    19898.66"
      ]
     },
     "execution_count": 23,
     "metadata": {},
     "output_type": "execute_result"
    }
   ],
   "source": [
    "df = pd.read_sql_query(\n",
    "\"\"\"\n",
    "SELECT DATE_FORMAT(o.OrderDate, '%Y-%m') AS Month, SUM(od.Quantity * od.UnitPrice) AS TotalSales\n",
    "FROM orders o\n",
    "JOIN orderdetails od ON o.OrderID = od.OrderID\n",
    "GROUP BY Month\n",
    "ORDER BY Month;\n",
    "\"\"\"\n",
    ", mydb)\n",
    "df"
   ]
  },
  {
   "cell_type": "code",
   "execution_count": 24,
   "id": "cdc2f4b8",
   "metadata": {},
   "outputs": [
    {
     "data": {
      "image/png": "[encoded data removed]",
      "text/plain": [
       "<Figure size 1200x300 with 1 Axes>"
      ]
     },
     "metadata": {},
     "output_type": "display_data"
    }
   ],
   "source": [
    "\n",
    "plt.figure(figsize=(12, 3))\n",
    "plt.plot(df['Month'], df['TotalSales'], marker='o', linestyle='-')\n",
    "\n",
    "# Title and labels\n",
    "plt.title('Monthly Order Counts')\n",
    "plt.xlabel('Month')\n",
    "plt.ylabel('Order Count')\n",
    "\n",
    "plt.xticks(rotation=45)\n",
    "\n",
    "plt.show()"
   ]
  },
  {
   "cell_type": "markdown",
   "id": "5f812fa5",
   "metadata": {
    "deletable": false,
    "editable": false,
    "run_control": {
     "frozen": true
    }
   },
   "source": [
    "- **Insight:**\n",
    "\n",
    "    - *Sales show a significant upward trend from mid-1996 to early 1998, peaking in April 1998 at 134,630.56.*\n",
    "    - *The highest monthly sales occurred in the first four months of 1998, indicating strong performance during this period.*"
   ]
  },
  {
   "cell_type": "markdown",
   "id": "eca9de4f",
   "metadata": {
    "deletable": false,
    "editable": false,
    "run_control": {
     "frozen": true
    }
   },
   "source": [
    "### 6. Customer Distribution by Country"
   ]
  },
  {
   "cell_type": "code",
   "execution_count": 25,
   "id": "5abc03f2",
   "metadata": {},
   "outputs": [
    {
     "data": {
      "text/html": [
       "<div>\n",
       "<style scoped>\n",
       "    .dataframe tbody tr th:only-of-type {\n",
       "        vertical-align: middle;\n",
       "    }\n",
       "\n",
       "    .dataframe tbody tr th {\n",
       "        vertical-align: top;\n",
       "    }\n",
       "\n",
       "    .dataframe thead th {\n",
       "        text-align: right;\n",
       "    }\n",
       "</style>\n",
       "<table border=\"1\" class=\"dataframe\">\n",
       "  <thead>\n",
       "    <tr style=\"text-align: right;\">\n",
       "      <th></th>\n",
       "      <th>CountryGroup</th>\n",
       "      <th>TotalCustomerByCountry</th>\n",
       "    </tr>\n",
       "  </thead>\n",
       "  <tbody>\n",
       "    <tr>\n",
       "      <th>0</th>\n",
       "      <td>USA</td>\n",
       "      <td>13.0</td>\n",
       "    </tr>\n",
       "    <tr>\n",
       "      <th>1</th>\n",
       "      <td>Germany</td>\n",
       "      <td>11.0</td>\n",
       "    </tr>\n",
       "    <tr>\n",
       "      <th>2</th>\n",
       "      <td>France</td>\n",
       "      <td>11.0</td>\n",
       "    </tr>\n",
       "    <tr>\n",
       "      <th>3</th>\n",
       "      <td>Brazil</td>\n",
       "      <td>9.0</td>\n",
       "    </tr>\n",
       "    <tr>\n",
       "      <th>4</th>\n",
       "      <td>UK</td>\n",
       "      <td>7.0</td>\n",
       "    </tr>\n",
       "    <tr>\n",
       "      <th>5</th>\n",
       "      <td>Mexico</td>\n",
       "      <td>5.0</td>\n",
       "    </tr>\n",
       "    <tr>\n",
       "      <th>6</th>\n",
       "      <td>Spain</td>\n",
       "      <td>5.0</td>\n",
       "    </tr>\n",
       "    <tr>\n",
       "      <th>7</th>\n",
       "      <td>Venezuela</td>\n",
       "      <td>4.0</td>\n",
       "    </tr>\n",
       "    <tr>\n",
       "      <th>8</th>\n",
       "      <td>Canada</td>\n",
       "      <td>3.0</td>\n",
       "    </tr>\n",
       "    <tr>\n",
       "      <th>9</th>\n",
       "      <td>Argentina</td>\n",
       "      <td>3.0</td>\n",
       "    </tr>\n",
       "    <tr>\n",
       "      <th>10</th>\n",
       "      <td>Others</td>\n",
       "      <td>22.0</td>\n",
       "    </tr>\n",
       "  </tbody>\n",
       "</table>\n",
       "</div>"
      ],
      "text/plain": [
       "   CountryGroup  TotalCustomerByCountry\n",
       "0           USA                    13.0\n",
       "1       Germany                    11.0\n",
       "2        France                    11.0\n",
       "3        Brazil                     9.0\n",
       "4            UK                     7.0\n",
       "5        Mexico                     5.0\n",
       "6         Spain                     5.0\n",
       "7     Venezuela                     4.0\n",
       "8        Canada                     3.0\n",
       "9     Argentina                     3.0\n",
       "10       Others                    22.0"
      ]
     },
     "execution_count": 25,
     "metadata": {},
     "output_type": "execute_result"
    }
   ],
   "source": [
    "df = pd.read_sql_query(\n",
    "\"\"\"\n",
    "WITH cte1 AS (\n",
    "    SELECT Country, COUNT(*) AS CustomerCount,\n",
    "        ROW_NUMBER() OVER (ORDER BY COUNT(*) DESC) AS CountryRank\n",
    "    FROM customers\n",
    "    GROUP BY Country\n",
    "),\n",
    "cte2 AS (\n",
    "    SELECT Country,CustomerCount,CountryRank,\n",
    "        CASE WHEN CountryRank <= 10 THEN country ELSE 'Others' END AS CountryGroup\n",
    "    FROM cte1\n",
    ")\n",
    "SELECT CountryGroup, sum(CustomerCount) as TotalCustomerByCountry\n",
    "from cte2\n",
    "group by CountryGroup;\n",
    "\"\"\"\n",
    ", mydb)\n",
    "df"
   ]
  },
  {
   "cell_type": "code",
   "execution_count": 26,
   "id": "c6eba717",
   "metadata": {},
   "outputs": [
    {
     "data": {
      "image/png": "[encoded data removed]",
      "text/plain": [
       "<Figure size 1200x400 with 1 Axes>"
      ]
     },
     "metadata": {},
     "output_type": "display_data"
    }
   ],
   "source": [
    "plt.figure(figsize=(12, 4))\n",
    "\n",
    "bar_plot = sns.barplot(\n",
    "    x=df.TotalCustomerByCountry,\n",
    "    y=df.CountryGroup,\n",
    "    data=df,\n",
    "    palette='viridis'  # Choose color palette\n",
    ")\n",
    "\n",
    "# Add labels and title\n",
    "plt.title('Customer Distribution by Country')\n",
    "plt.xlabel('Total Customer By Country')\n",
    "plt.ylabel('Country')\n",
    "\n",
    "plt.grid(True)\n",
    "plt.show()"
   ]
  },
  {
   "cell_type": "markdown",
   "id": "5daef9b3",
   "metadata": {
    "deletable": false,
    "editable": false,
    "run_control": {
     "frozen": true
    }
   },
   "source": [
    "- **Insight:**\n",
    "\n",
    "    - *The majority of customers are from the USA, Germany, and France, with 13, 11, and 11 customers respectively.*\n",
    "    - *Countries outside the top ten collectively account for 22 customers, indicating a significant portion of the customer base comes from a diverse set of other countries.*"
   ]
  },
  {
   "cell_type": "markdown",
   "id": "e44a327a",
   "metadata": {
    "deletable": false,
    "editable": false,
    "run_control": {
     "frozen": true
    }
   },
   "source": [
    "### 7. Average Delivery Time by Shipper"
   ]
  },
  {
   "cell_type": "code",
   "execution_count": 27,
   "id": "abc67821",
   "metadata": {},
   "outputs": [
    {
     "data": {
      "text/html": [
       "<div>\n",
       "<style scoped>\n",
       "    .dataframe tbody tr th:only-of-type {\n",
       "        vertical-align: middle;\n",
       "    }\n",
       "\n",
       "    .dataframe tbody tr th {\n",
       "        vertical-align: top;\n",
       "    }\n",
       "\n",
       "    .dataframe thead th {\n",
       "        text-align: right;\n",
       "    }\n",
       "</style>\n",
       "<table border=\"1\" class=\"dataframe\">\n",
       "  <thead>\n",
       "    <tr style=\"text-align: right;\">\n",
       "      <th></th>\n",
       "      <th>CompanyName</th>\n",
       "      <th>AvgDeliveryTime</th>\n",
       "    </tr>\n",
       "  </thead>\n",
       "  <tbody>\n",
       "    <tr>\n",
       "      <th>0</th>\n",
       "      <td>Federal Shipping</td>\n",
       "      <td>7.4739</td>\n",
       "    </tr>\n",
       "    <tr>\n",
       "      <th>1</th>\n",
       "      <td>Speedy Express</td>\n",
       "      <td>8.5714</td>\n",
       "    </tr>\n",
       "    <tr>\n",
       "      <th>2</th>\n",
       "      <td>United Package</td>\n",
       "      <td>9.2349</td>\n",
       "    </tr>\n",
       "  </tbody>\n",
       "</table>\n",
       "</div>"
      ],
      "text/plain": [
       "        CompanyName  AvgDeliveryTime\n",
       "0  Federal Shipping           7.4739\n",
       "1    Speedy Express           8.5714\n",
       "2    United Package           9.2349"
      ]
     },
     "execution_count": 27,
     "metadata": {},
     "output_type": "execute_result"
    }
   ],
   "source": [
    "df = pd.read_sql_query(\n",
    "\"\"\"\n",
    "SELECT s.CompanyName, \n",
    "       AVG(DATEDIFF(o.ShippedDate, o.OrderDate)) AS AvgDeliveryTime\n",
    "FROM orders o\n",
    "JOIN shippers s ON o.ShipVia = s.ShipperID\n",
    "GROUP BY s.CompanyName\n",
    "ORDER BY AvgDeliveryTime;\n",
    "\n",
    "\"\"\"\n",
    ", mydb)\n",
    "df"
   ]
  },
  {
   "cell_type": "code",
   "execution_count": 28,
   "id": "37e2840b",
   "metadata": {},
   "outputs": [
    {
     "data": {
      "image/png": "[encoded data removed]",
      "text/plain": [
       "<Figure size 1000x100 with 1 Axes>"
      ]
     },
     "metadata": {},
     "output_type": "display_data"
    }
   ],
   "source": [
    "plt.figure(figsize=(10, 1))  # Adjust size as needed\n",
    "plt.barh(df.CompanyName, df.AvgDeliveryTime, color='skyblue')\n",
    "plt.xlabel('Values')\n",
    "plt.ylabel('Categories')\n",
    "plt.title('Average Delivery Time by Shipper')\n",
    "plt.grid(True)  # Add gridlines for better readability\n",
    "plt.show()"
   ]
  },
  {
   "cell_type": "markdown",
   "id": "96816ca2",
   "metadata": {
    "deletable": false,
    "editable": false,
    "run_control": {
     "frozen": true
    }
   },
   "source": [
    "- **Insight:**\n",
    "\n",
    "    - *Federal Shipping has the shortest average delivery time at approximately 7.47 days.*\n",
    "    - *Speedy Express and United Package have longer average delivery times, at about 8.57 and 9.23 days respectively.*"
   ]
  },
  {
   "cell_type": "markdown",
   "id": "32334a60",
   "metadata": {
    "deletable": false,
    "editable": false,
    "run_control": {
     "frozen": true
    }
   },
   "source": [
    "### 8. Quarterly Sales and Year-over-Year Growth"
   ]
  },
  {
   "cell_type": "code",
   "execution_count": 29,
   "id": "446271c8",
   "metadata": {},
   "outputs": [
    {
     "data": {
      "text/html": [
       "<div>\n",
       "<style scoped>\n",
       "    .dataframe tbody tr th:only-of-type {\n",
       "        vertical-align: middle;\n",
       "    }\n",
       "\n",
       "    .dataframe tbody tr th {\n",
       "        vertical-align: top;\n",
       "    }\n",
       "\n",
       "    .dataframe thead th {\n",
       "        text-align: right;\n",
       "    }\n",
       "</style>\n",
       "<table border=\"1\" class=\"dataframe\">\n",
       "  <thead>\n",
       "    <tr style=\"text-align: right;\">\n",
       "      <th></th>\n",
       "      <th>OrderYear</th>\n",
       "      <th>YearQuarter</th>\n",
       "      <th>TotalSales</th>\n",
       "      <th>PreviousYearSales</th>\n",
       "      <th>YoYGrowth</th>\n",
       "    </tr>\n",
       "  </thead>\n",
       "  <tbody>\n",
       "    <tr>\n",
       "      <th>0</th>\n",
       "      <td>1996</td>\n",
       "      <td>3</td>\n",
       "      <td>84437.50</td>\n",
       "      <td>NaN</td>\n",
       "      <td>NaN</td>\n",
       "    </tr>\n",
       "    <tr>\n",
       "      <th>1</th>\n",
       "      <td>1996</td>\n",
       "      <td>4</td>\n",
       "      <td>141861.00</td>\n",
       "      <td>84437.50</td>\n",
       "      <td>68.007106</td>\n",
       "    </tr>\n",
       "    <tr>\n",
       "      <th>2</th>\n",
       "      <td>1997</td>\n",
       "      <td>1</td>\n",
       "      <td>147879.90</td>\n",
       "      <td>141861.00</td>\n",
       "      <td>4.242815</td>\n",
       "    </tr>\n",
       "    <tr>\n",
       "      <th>3</th>\n",
       "      <td>1997</td>\n",
       "      <td>2</td>\n",
       "      <td>151611.09</td>\n",
       "      <td>147879.90</td>\n",
       "      <td>2.523122</td>\n",
       "    </tr>\n",
       "    <tr>\n",
       "      <th>4</th>\n",
       "      <td>1997</td>\n",
       "      <td>3</td>\n",
       "      <td>165179.64</td>\n",
       "      <td>151611.09</td>\n",
       "      <td>8.949576</td>\n",
       "    </tr>\n",
       "    <tr>\n",
       "      <th>5</th>\n",
       "      <td>1997</td>\n",
       "      <td>4</td>\n",
       "      <td>193718.12</td>\n",
       "      <td>165179.64</td>\n",
       "      <td>17.277238</td>\n",
       "    </tr>\n",
       "    <tr>\n",
       "      <th>6</th>\n",
       "      <td>1998</td>\n",
       "      <td>1</td>\n",
       "      <td>315242.12</td>\n",
       "      <td>193718.12</td>\n",
       "      <td>62.732387</td>\n",
       "    </tr>\n",
       "    <tr>\n",
       "      <th>7</th>\n",
       "      <td>1998</td>\n",
       "      <td>2</td>\n",
       "      <td>154529.22</td>\n",
       "      <td>315242.12</td>\n",
       "      <td>-50.980783</td>\n",
       "    </tr>\n",
       "  </tbody>\n",
       "</table>\n",
       "</div>"
      ],
      "text/plain": [
       "   OrderYear  YearQuarter  TotalSales  PreviousYearSales  YoYGrowth\n",
       "0       1996            3    84437.50                NaN        NaN\n",
       "1       1996            4   141861.00           84437.50  68.007106\n",
       "2       1997            1   147879.90          141861.00   4.242815\n",
       "3       1997            2   151611.09          147879.90   2.523122\n",
       "4       1997            3   165179.64          151611.09   8.949576\n",
       "5       1997            4   193718.12          165179.64  17.277238\n",
       "6       1998            1   315242.12          193718.12  62.732387\n",
       "7       1998            2   154529.22          315242.12 -50.980783"
      ]
     },
     "execution_count": 29,
     "metadata": {},
     "output_type": "execute_result"
    }
   ],
   "source": [
    "df = pd.read_sql_query(\n",
    "\"\"\"\n",
    "WITH YearlySales AS (\n",
    "    SELECT YEAR(OrderDate) AS OrderYear,quarter(OrderDate) as YearQuarter,\n",
    "        SUM(UnitPrice * Quantity * (1 - Discount)) AS TotalSales\n",
    "    FROM orders o\n",
    "    JOIN orderdetails od ON o.OrderID = od.OrderID\n",
    "    GROUP BY YEAR(OrderDate), quarter(OrderDate)\n",
    "    order by YEAR(OrderDate), quarter(OrderDate)\n",
    ")\n",
    "SELECT OrderYear,YearQuarter,TotalSales,\n",
    "    LAG(TotalSales) OVER (ORDER BY OrderYear) AS PreviousYearSales,\n",
    "    (TotalSales - LAG(TotalSales) OVER (ORDER BY OrderYear)) * 100.0 / LAG(TotalSales) OVER (ORDER BY OrderYear) AS YoYGrowth\n",
    "FROM YearlySales;\n",
    "\"\"\"\n",
    ", mydb)\n",
    "df"
   ]
  },
  {
   "cell_type": "code",
   "execution_count": 30,
   "id": "64c5e555",
   "metadata": {},
   "outputs": [
    {
     "data": {
      "image/png": "[encoded data removed]",
      "text/plain": [
       "<Figure size 1000x300 with 1 Axes>"
      ]
     },
     "metadata": {},
     "output_type": "display_data"
    }
   ],
   "source": [
    "plt.figure(figsize=(10, 3))\n",
    "plt.plot(df['OrderYear'].astype(str) + 'Q' + df['YearQuarter'].astype(str), df['YoYGrowth'], marker='o', color='b', linestyle='-')\n",
    "plt.title('Year-over-Year Growth')\n",
    "plt.xlabel('Year and Quarter')\n",
    "plt.ylabel('YoY Growth (%)')\n",
    "plt.xticks(rotation=45)\n",
    "plt.grid(True)\n",
    "plt.tight_layout()\n",
    "plt.show()"
   ]
  },
  {
   "cell_type": "markdown",
   "id": "e29a668b",
   "metadata": {
    "deletable": false,
    "editable": false,
    "run_control": {
     "frozen": true
    }
   },
   "source": [
    "- **Insight:**\n",
    "\n",
    "    - *There was substantial growth in Q1 1998, with sales increasing by 62.73% compared to Q4 1997.*\n",
    "    - *Conversely, Q2 1998 saw a significant decline of 50.98% from Q1 1998, highlighting a sharp drop in sales after the peak in early 1998.*"
   ]
  },
  {
   "cell_type": "markdown",
   "id": "7109cf13",
   "metadata": {
    "deletable": false,
    "editable": false,
    "run_control": {
     "frozen": true
    }
   },
   "source": [
    "###  9. Revenue by Shipping Company"
   ]
  },
  {
   "cell_type": "code",
   "execution_count": 31,
   "id": "bb67f7c1",
   "metadata": {},
   "outputs": [
    {
     "data": {
      "text/html": [
       "<div>\n",
       "<style scoped>\n",
       "    .dataframe tbody tr th:only-of-type {\n",
       "        vertical-align: middle;\n",
       "    }\n",
       "\n",
       "    .dataframe tbody tr th {\n",
       "        vertical-align: top;\n",
       "    }\n",
       "\n",
       "    .dataframe thead th {\n",
       "        text-align: right;\n",
       "    }\n",
       "</style>\n",
       "<table border=\"1\" class=\"dataframe\">\n",
       "  <thead>\n",
       "    <tr style=\"text-align: right;\">\n",
       "      <th></th>\n",
       "      <th>CompanyName</th>\n",
       "      <th>TotalRevenue</th>\n",
       "    </tr>\n",
       "  </thead>\n",
       "  <tbody>\n",
       "    <tr>\n",
       "      <th>0</th>\n",
       "      <td>United Package</td>\n",
       "      <td>572724.58</td>\n",
       "    </tr>\n",
       "    <tr>\n",
       "      <th>1</th>\n",
       "      <td>Federal Shipping</td>\n",
       "      <td>407750.82</td>\n",
       "    </tr>\n",
       "    <tr>\n",
       "      <th>2</th>\n",
       "      <td>Speedy Express</td>\n",
       "      <td>373983.19</td>\n",
       "    </tr>\n",
       "  </tbody>\n",
       "</table>\n",
       "</div>"
      ],
      "text/plain": [
       "        CompanyName  TotalRevenue\n",
       "0    United Package     572724.58\n",
       "1  Federal Shipping     407750.82\n",
       "2    Speedy Express     373983.19"
      ]
     },
     "execution_count": 31,
     "metadata": {},
     "output_type": "execute_result"
    }
   ],
   "source": [
    "df = pd.read_sql_query(\n",
    "\"\"\"\n",
    "SELECT s.CompanyName, SUM(od.Quantity * od.UnitPrice) AS TotalRevenue\n",
    "FROM orders o\n",
    "JOIN orderdetails od ON o.OrderID = od.OrderID\n",
    "JOIN shippers s ON o.ShipVia = s.ShipperID\n",
    "GROUP BY s.CompanyName\n",
    "ORDER BY TotalRevenue DESC;\n",
    "\"\"\"\n",
    ", mydb)\n",
    "df"
   ]
  },
  {
   "cell_type": "code",
   "execution_count": 32,
   "id": "797c76bd",
   "metadata": {},
   "outputs": [
    {
     "data": {
      "text/plain": [
       "[]"
      ]
     },
     "execution_count": 32,
     "metadata": {},
     "output_type": "execute_result"
    },
    {
     "data": {
      "image/png": "[encoded data removed]",
      "text/plain": [
       "<Figure size 1000x400 with 1 Axes>"
      ]
     },
     "metadata": {},
     "output_type": "display_data"
    }
   ],
   "source": [
    "plt.figure(figsize=(10, 4))\n",
    "plt.pie(df.TotalRevenue, labels=df.CompanyName, autopct='%.1f%%',\n",
    "        wedgeprops={'linewidth': 2.0, 'edgecolor': 'white'},\n",
    "       startangle=90)\n",
    "plt.title('Product Sales Contribution by Category')\n",
    "plt.plot()"
   ]
  },
  {
   "cell_type": "markdown",
   "id": "2cbce512",
   "metadata": {
    "deletable": false,
    "editable": false,
    "run_control": {
     "frozen": true
    }
   },
   "source": [
    "- **Insight:**\n",
    "\n",
    "     - *United Package leads with the highest total revenue of 572,724.58.*\n",
    "     - *Federal Shipping and Speedy Express follow with revenues of 407,750.82 and 373,983.19 respectively, indicating competitive performance among the shippers.*"
   ]
  },
  {
   "cell_type": "markdown",
   "id": "cf408cd8",
   "metadata": {
    "deletable": false,
    "editable": false,
    "run_control": {
     "frozen": true
    }
   },
   "source": [
    "### 10. Monthly Sales Performance by Region"
   ]
  },
  {
   "cell_type": "code",
   "execution_count": 33,
   "id": "acf64df6",
   "metadata": {
    "scrolled": true
   },
   "outputs": [
    {
     "data": {
      "text/html": [
       "<div>\n",
       "<style scoped>\n",
       "    .dataframe tbody tr th:only-of-type {\n",
       "        vertical-align: middle;\n",
       "    }\n",
       "\n",
       "    .dataframe tbody tr th {\n",
       "        vertical-align: top;\n",
       "    }\n",
       "\n",
       "    .dataframe thead th {\n",
       "        text-align: right;\n",
       "    }\n",
       "</style>\n",
       "<table border=\"1\" class=\"dataframe\">\n",
       "  <thead>\n",
       "    <tr style=\"text-align: right;\">\n",
       "      <th></th>\n",
       "      <th>RegionDescription</th>\n",
       "      <th>Monthly</th>\n",
       "      <th>TotalQuantitySold</th>\n",
       "      <th>TotalRevenue</th>\n",
       "    </tr>\n",
       "  </thead>\n",
       "  <tbody>\n",
       "    <tr>\n",
       "      <th>0</th>\n",
       "      <td>Eastern                                       ...</td>\n",
       "      <td>April</td>\n",
       "      <td>15026.0</td>\n",
       "      <td>429484.33</td>\n",
       "    </tr>\n",
       "    <tr>\n",
       "      <th>1</th>\n",
       "      <td>Eastern                                       ...</td>\n",
       "      <td>August</td>\n",
       "      <td>4777.0</td>\n",
       "      <td>122121.67</td>\n",
       "    </tr>\n",
       "    <tr>\n",
       "      <th>2</th>\n",
       "      <td>Eastern                                       ...</td>\n",
       "      <td>December</td>\n",
       "      <td>10270.0</td>\n",
       "      <td>323828.00</td>\n",
       "    </tr>\n",
       "    <tr>\n",
       "      <th>3</th>\n",
       "      <td>Eastern                                       ...</td>\n",
       "      <td>February</td>\n",
       "      <td>9369.0</td>\n",
       "      <td>337342.15</td>\n",
       "    </tr>\n",
       "    <tr>\n",
       "      <th>4</th>\n",
       "      <td>Eastern                                       ...</td>\n",
       "      <td>January</td>\n",
       "      <td>11378.0</td>\n",
       "      <td>312908.21</td>\n",
       "    </tr>\n",
       "    <tr>\n",
       "      <th>5</th>\n",
       "      <td>Eastern                                       ...</td>\n",
       "      <td>July</td>\n",
       "      <td>9362.0</td>\n",
       "      <td>239302.26</td>\n",
       "    </tr>\n",
       "    <tr>\n",
       "      <th>6</th>\n",
       "      <td>Eastern                                       ...</td>\n",
       "      <td>June</td>\n",
       "      <td>3569.0</td>\n",
       "      <td>96207.00</td>\n",
       "    </tr>\n",
       "    <tr>\n",
       "      <th>7</th>\n",
       "      <td>Eastern                                       ...</td>\n",
       "      <td>March</td>\n",
       "      <td>11106.0</td>\n",
       "      <td>261865.89</td>\n",
       "    </tr>\n",
       "    <tr>\n",
       "      <th>8</th>\n",
       "      <td>Eastern                                       ...</td>\n",
       "      <td>May</td>\n",
       "      <td>7244.0</td>\n",
       "      <td>157222.80</td>\n",
       "    </tr>\n",
       "    <tr>\n",
       "      <th>9</th>\n",
       "      <td>Eastern                                       ...</td>\n",
       "      <td>November</td>\n",
       "      <td>7644.0</td>\n",
       "      <td>179035.80</td>\n",
       "    </tr>\n",
       "    <tr>\n",
       "      <th>10</th>\n",
       "      <td>Eastern                                       ...</td>\n",
       "      <td>October</td>\n",
       "      <td>10500.0</td>\n",
       "      <td>290298.89</td>\n",
       "    </tr>\n",
       "    <tr>\n",
       "      <th>11</th>\n",
       "      <td>Eastern                                       ...</td>\n",
       "      <td>September</td>\n",
       "      <td>8410.0</td>\n",
       "      <td>178451.84</td>\n",
       "    </tr>\n",
       "    <tr>\n",
       "      <th>12</th>\n",
       "      <td>Northern                                      ...</td>\n",
       "      <td>April</td>\n",
       "      <td>4823.0</td>\n",
       "      <td>130210.70</td>\n",
       "    </tr>\n",
       "    <tr>\n",
       "      <th>13</th>\n",
       "      <td>Northern                                      ...</td>\n",
       "      <td>August</td>\n",
       "      <td>3270.0</td>\n",
       "      <td>66465.20</td>\n",
       "    </tr>\n",
       "    <tr>\n",
       "      <th>14</th>\n",
       "      <td>Northern                                      ...</td>\n",
       "      <td>December</td>\n",
       "      <td>2781.0</td>\n",
       "      <td>60111.30</td>\n",
       "    </tr>\n",
       "    <tr>\n",
       "      <th>15</th>\n",
       "      <td>Northern                                      ...</td>\n",
       "      <td>February</td>\n",
       "      <td>3799.0</td>\n",
       "      <td>166760.17</td>\n",
       "    </tr>\n",
       "    <tr>\n",
       "      <th>16</th>\n",
       "      <td>Northern                                      ...</td>\n",
       "      <td>January</td>\n",
       "      <td>5569.0</td>\n",
       "      <td>123024.88</td>\n",
       "    </tr>\n",
       "    <tr>\n",
       "      <th>17</th>\n",
       "      <td>Northern                                      ...</td>\n",
       "      <td>July</td>\n",
       "      <td>3014.0</td>\n",
       "      <td>57723.50</td>\n",
       "    </tr>\n",
       "    <tr>\n",
       "      <th>18</th>\n",
       "      <td>Northern                                      ...</td>\n",
       "      <td>June</td>\n",
       "      <td>1595.0</td>\n",
       "      <td>36794.70</td>\n",
       "    </tr>\n",
       "    <tr>\n",
       "      <th>19</th>\n",
       "      <td>Northern                                      ...</td>\n",
       "      <td>March</td>\n",
       "      <td>7978.0</td>\n",
       "      <td>168129.00</td>\n",
       "    </tr>\n",
       "    <tr>\n",
       "      <th>20</th>\n",
       "      <td>Northern                                      ...</td>\n",
       "      <td>May</td>\n",
       "      <td>1560.0</td>\n",
       "      <td>33042.44</td>\n",
       "    </tr>\n",
       "    <tr>\n",
       "      <th>21</th>\n",
       "      <td>Northern                                      ...</td>\n",
       "      <td>November</td>\n",
       "      <td>2406.0</td>\n",
       "      <td>71955.55</td>\n",
       "    </tr>\n",
       "    <tr>\n",
       "      <th>22</th>\n",
       "      <td>Northern                                      ...</td>\n",
       "      <td>October</td>\n",
       "      <td>4136.0</td>\n",
       "      <td>94290.28</td>\n",
       "    </tr>\n",
       "    <tr>\n",
       "      <th>23</th>\n",
       "      <td>Northern                                      ...</td>\n",
       "      <td>September</td>\n",
       "      <td>1411.0</td>\n",
       "      <td>105444.40</td>\n",
       "    </tr>\n",
       "    <tr>\n",
       "      <th>24</th>\n",
       "      <td>Southern                                      ...</td>\n",
       "      <td>April</td>\n",
       "      <td>3432.0</td>\n",
       "      <td>98385.20</td>\n",
       "    </tr>\n",
       "    <tr>\n",
       "      <th>25</th>\n",
       "      <td>Southern                                      ...</td>\n",
       "      <td>August</td>\n",
       "      <td>1896.0</td>\n",
       "      <td>37756.00</td>\n",
       "    </tr>\n",
       "    <tr>\n",
       "      <th>26</th>\n",
       "      <td>Southern                                      ...</td>\n",
       "      <td>December</td>\n",
       "      <td>3132.0</td>\n",
       "      <td>85011.20</td>\n",
       "    </tr>\n",
       "    <tr>\n",
       "      <th>27</th>\n",
       "      <td>Southern                                      ...</td>\n",
       "      <td>February</td>\n",
       "      <td>4944.0</td>\n",
       "      <td>128486.16</td>\n",
       "    </tr>\n",
       "    <tr>\n",
       "      <th>28</th>\n",
       "      <td>Southern                                      ...</td>\n",
       "      <td>January</td>\n",
       "      <td>4436.0</td>\n",
       "      <td>141245.00</td>\n",
       "    </tr>\n",
       "    <tr>\n",
       "      <th>29</th>\n",
       "      <td>Southern                                      ...</td>\n",
       "      <td>July</td>\n",
       "      <td>1064.0</td>\n",
       "      <td>16429.40</td>\n",
       "    </tr>\n",
       "    <tr>\n",
       "      <th>30</th>\n",
       "      <td>Southern                                      ...</td>\n",
       "      <td>June</td>\n",
       "      <td>1144.0</td>\n",
       "      <td>23486.40</td>\n",
       "    </tr>\n",
       "    <tr>\n",
       "      <th>31</th>\n",
       "      <td>Southern                                      ...</td>\n",
       "      <td>March</td>\n",
       "      <td>3104.0</td>\n",
       "      <td>119831.00</td>\n",
       "    </tr>\n",
       "    <tr>\n",
       "      <th>32</th>\n",
       "      <td>Southern                                      ...</td>\n",
       "      <td>May</td>\n",
       "      <td>2032.0</td>\n",
       "      <td>74559.20</td>\n",
       "    </tr>\n",
       "    <tr>\n",
       "      <th>33</th>\n",
       "      <td>Southern                                      ...</td>\n",
       "      <td>November</td>\n",
       "      <td>2724.0</td>\n",
       "      <td>54024.24</td>\n",
       "    </tr>\n",
       "    <tr>\n",
       "      <th>34</th>\n",
       "      <td>Southern                                      ...</td>\n",
       "      <td>October</td>\n",
       "      <td>2264.0</td>\n",
       "      <td>51561.40</td>\n",
       "    </tr>\n",
       "    <tr>\n",
       "      <th>35</th>\n",
       "      <td>Southern                                      ...</td>\n",
       "      <td>September</td>\n",
       "      <td>1236.0</td>\n",
       "      <td>21430.00</td>\n",
       "    </tr>\n",
       "    <tr>\n",
       "      <th>36</th>\n",
       "      <td>Westerns                                      ...</td>\n",
       "      <td>April</td>\n",
       "      <td>14320.0</td>\n",
       "      <td>480153.70</td>\n",
       "    </tr>\n",
       "    <tr>\n",
       "      <th>37</th>\n",
       "      <td>Westerns                                      ...</td>\n",
       "      <td>August</td>\n",
       "      <td>4110.0</td>\n",
       "      <td>116212.75</td>\n",
       "    </tr>\n",
       "    <tr>\n",
       "      <th>38</th>\n",
       "      <td>Westerns                                      ...</td>\n",
       "      <td>December</td>\n",
       "      <td>3650.0</td>\n",
       "      <td>78191.55</td>\n",
       "    </tr>\n",
       "    <tr>\n",
       "      <th>39</th>\n",
       "      <td>Westerns                                      ...</td>\n",
       "      <td>February</td>\n",
       "      <td>5960.0</td>\n",
       "      <td>123390.50</td>\n",
       "    </tr>\n",
       "    <tr>\n",
       "      <th>40</th>\n",
       "      <td>Westerns                                      ...</td>\n",
       "      <td>January</td>\n",
       "      <td>5935.0</td>\n",
       "      <td>220512.00</td>\n",
       "    </tr>\n",
       "    <tr>\n",
       "      <th>41</th>\n",
       "      <td>Westerns                                      ...</td>\n",
       "      <td>July</td>\n",
       "      <td>3160.0</td>\n",
       "      <td>80890.50</td>\n",
       "    </tr>\n",
       "    <tr>\n",
       "      <th>42</th>\n",
       "      <td>Westerns                                      ...</td>\n",
       "      <td>June</td>\n",
       "      <td>1695.0</td>\n",
       "      <td>41961.50</td>\n",
       "    </tr>\n",
       "    <tr>\n",
       "      <th>43</th>\n",
       "      <td>Westerns                                      ...</td>\n",
       "      <td>March</td>\n",
       "      <td>6795.0</td>\n",
       "      <td>142301.00</td>\n",
       "    </tr>\n",
       "    <tr>\n",
       "      <th>44</th>\n",
       "      <td>Westerns                                      ...</td>\n",
       "      <td>May</td>\n",
       "      <td>3450.0</td>\n",
       "      <td>75901.50</td>\n",
       "    </tr>\n",
       "    <tr>\n",
       "      <th>45</th>\n",
       "      <td>Westerns                                      ...</td>\n",
       "      <td>November</td>\n",
       "      <td>4285.0</td>\n",
       "      <td>181403.25</td>\n",
       "    </tr>\n",
       "    <tr>\n",
       "      <th>46</th>\n",
       "      <td>Westerns                                      ...</td>\n",
       "      <td>October</td>\n",
       "      <td>3500.0</td>\n",
       "      <td>85646.50</td>\n",
       "    </tr>\n",
       "    <tr>\n",
       "      <th>47</th>\n",
       "      <td>Westerns                                      ...</td>\n",
       "      <td>September</td>\n",
       "      <td>7315.0</td>\n",
       "      <td>177385.65</td>\n",
       "    </tr>\n",
       "  </tbody>\n",
       "</table>\n",
       "</div>"
      ],
      "text/plain": [
       "                                    RegionDescription    Monthly  \\\n",
       "0   Eastern                                       ...      April   \n",
       "1   Eastern                                       ...     August   \n",
       "2   Eastern                                       ...   December   \n",
       "3   Eastern                                       ...   February   \n",
       "4   Eastern                                       ...    January   \n",
       "5   Eastern                                       ...       July   \n",
       "6   Eastern                                       ...       June   \n",
       "7   Eastern                                       ...      March   \n",
       "8   Eastern                                       ...        May   \n",
       "9   Eastern                                       ...   November   \n",
       "10  Eastern                                       ...    October   \n",
       "11  Eastern                                       ...  September   \n",
       "12  Northern                                      ...      April   \n",
       "13  Northern                                      ...     August   \n",
       "14  Northern                                      ...   December   \n",
       "15  Northern                                      ...   February   \n",
       "16  Northern                                      ...    January   \n",
       "17  Northern                                      ...       July   \n",
       "18  Northern                                      ...       June   \n",
       "19  Northern                                      ...      March   \n",
       "20  Northern                                      ...        May   \n",
       "21  Northern                                      ...   November   \n",
       "22  Northern                                      ...    October   \n",
       "23  Northern                                      ...  September   \n",
       "24  Southern                                      ...      April   \n",
       "25  Southern                                      ...     August   \n",
       "26  Southern                                      ...   December   \n",
       "27  Southern                                      ...   February   \n",
       "28  Southern                                      ...    January   \n",
       "29  Southern                                      ...       July   \n",
       "30  Southern                                      ...       June   \n",
       "31  Southern                                      ...      March   \n",
       "32  Southern                                      ...        May   \n",
       "33  Southern                                      ...   November   \n",
       "34  Southern                                      ...    October   \n",
       "35  Southern                                      ...  September   \n",
       "36  Westerns                                      ...      April   \n",
       "37  Westerns                                      ...     August   \n",
       "38  Westerns                                      ...   December   \n",
       "39  Westerns                                      ...   February   \n",
       "40  Westerns                                      ...    January   \n",
       "41  Westerns                                      ...       July   \n",
       "42  Westerns                                      ...       June   \n",
       "43  Westerns                                      ...      March   \n",
       "44  Westerns                                      ...        May   \n",
       "45  Westerns                                      ...   November   \n",
       "46  Westerns                                      ...    October   \n",
       "47  Westerns                                      ...  September   \n",
       "\n",
       "    TotalQuantitySold  TotalRevenue  \n",
       "0             15026.0     429484.33  \n",
       "1              4777.0     122121.67  \n",
       "2             10270.0     323828.00  \n",
       "3              9369.0     337342.15  \n",
       "4             11378.0     312908.21  \n",
       "5              9362.0     239302.26  \n",
       "6              3569.0      96207.00  \n",
       "7             11106.0     261865.89  \n",
       "8              7244.0     157222.80  \n",
       "9              7644.0     179035.80  \n",
       "10            10500.0     290298.89  \n",
       "11             8410.0     178451.84  \n",
       "12             4823.0     130210.70  \n",
       "13             3270.0      66465.20  \n",
       "14             2781.0      60111.30  \n",
       "15             3799.0     166760.17  \n",
       "16             5569.0     123024.88  \n",
       "17             3014.0      57723.50  \n",
       "18             1595.0      36794.70  \n",
       "19             7978.0     168129.00  \n",
       "20             1560.0      33042.44  \n",
       "21             2406.0      71955.55  \n",
       "22             4136.0      94290.28  \n",
       "23             1411.0     105444.40  \n",
       "24             3432.0      98385.20  \n",
       "25             1896.0      37756.00  \n",
       "26             3132.0      85011.20  \n",
       "27             4944.0     128486.16  \n",
       "28             4436.0     141245.00  \n",
       "29             1064.0      16429.40  \n",
       "30             1144.0      23486.40  \n",
       "31             3104.0     119831.00  \n",
       "32             2032.0      74559.20  \n",
       "33             2724.0      54024.24  \n",
       "34             2264.0      51561.40  \n",
       "35             1236.0      21430.00  \n",
       "36            14320.0     480153.70  \n",
       "37             4110.0     116212.75  \n",
       "38             3650.0      78191.55  \n",
       "39             5960.0     123390.50  \n",
       "40             5935.0     220512.00  \n",
       "41             3160.0      80890.50  \n",
       "42             1695.0      41961.50  \n",
       "43             6795.0     142301.00  \n",
       "44             3450.0      75901.50  \n",
       "45             4285.0     181403.25  \n",
       "46             3500.0      85646.50  \n",
       "47             7315.0     177385.65  "
      ]
     },
     "execution_count": 33,
     "metadata": {},
     "output_type": "execute_result"
    }
   ],
   "source": [
    "df = pd.read_sql_query(\n",
    "\"\"\"\n",
    "SELECT r.RegionDescription, \n",
    "       monthname(o.orderdate) as Monthly, \n",
    "       SUM(od.Quantity) AS TotalQuantitySold, \n",
    "       SUM(od.Quantity * od.UnitPrice) AS TotalRevenue\n",
    "FROM orders o\n",
    "JOIN orderdetails od ON o.OrderID = od.OrderID\n",
    "JOIN products p ON od.ProductID = p.ProductID\n",
    "JOIN employees e ON o.EmployeeID = e.EmployeeID\n",
    "JOIN employeeterritories et ON e.EmployeeID = et.EmployeeID\n",
    "JOIN territories t ON et.TerritoryID = t.TerritoryID\n",
    "JOIN region r ON t.RegionID = r.RegionID\n",
    "GROUP BY r.RegionDescription, Monthly\n",
    "ORDER BY r.RegionDescription, Monthly;\n",
    "\"\"\"\n",
    ", mydb)\n",
    "df"
   ]
  },
  {
   "cell_type": "code",
   "execution_count": 34,
   "id": "fd0ede0c",
   "metadata": {},
   "outputs": [
    {
     "data": {
      "image/png": "[encoded data removed]",
      "text/plain": [
       "<Figure size 1400x500 with 1 Axes>"
      ]
     },
     "metadata": {},
     "output_type": "display_data"
    }
   ],
   "source": [
    "\n",
    "# Plotting with Seaborn\n",
    "plt.figure(figsize=(14, 5))\n",
    "sns.lineplot(data=df, x=df.Monthly, y=df.TotalRevenue, hue=df.RegionDescription, marker='o')\n",
    "\n",
    "plt.title('Total Revenue by Month for Each Region')\n",
    "plt.xlabel('Month')\n",
    "plt.ylabel('Total Revenue')\n",
    "plt.legend(title='Region')\n",
    "plt.grid(True)\n",
    "plt.show()"
   ]
  },
  {
   "cell_type": "markdown",
   "id": "c321f068",
   "metadata": {
    "deletable": false,
    "editable": false,
    "run_control": {
     "frozen": true
    }
   },
   "source": [
    "- **Insight:**\n",
    "\n",
    "    - *The Eastern region consistently shows higher total sales and revenue across most months, peaking in April with 429,484.33.*\n",
    "    - *The Western region also experiences significant sales, particularly in April with 480,153.70, while the Northern and Southern regions have lower and more variable sales figures throughout the year.*"
   ]
  },
  {
   "cell_type": "markdown",
   "id": "6f2f8e2b",
   "metadata": {
    "deletable": false,
    "editable": false,
    "run_control": {
     "frozen": true
    }
   },
   "source": [
    "### Contributions:\n",
    "***In this project, I:***\n",
    "\n",
    "- *Developed SQL queries to analyze the Northwind dataset.*\n",
    "- *Connected to the SQL database using Python's mysql.connector.*\n",
    "- *Utilized Pandas for data manipulation and cleaning.*\n",
    "- *Created data visualizations using Matplotlib and Seaborn to present insights.*\n",
    "- *Conducted thorough analysis to draw meaningful conclusions about sales performance and customer trends.*\n",
    "- *Implemented sales forecasting models to predict future trends.*\n",
    "- *Documented findings and presented them in a clear and organized manner using Jupyter Notebook.*"
   ]
  },
  {
   "cell_type": "markdown",
   "id": "a4a51851",
   "metadata": {
    "deletable": false,
    "editable": false,
    "run_control": {
     "frozen": true
    }
   },
   "source": [
    "- ### See All Material About Project\n",
    "\n",
    "    - __[NorthWind Dataset](https://drive.google.com/file/d/1OQBJUlGEvR0bgaSZU0BMobLLj0n_JKD9/view?usp=drive_link)__\n",
    "\n",
    "    - __[EER Diagram PDF](https://drive.google.com/file/d/1B5zRjqGNEJnB60KGNfSDN_Y3AA-7mS88/view?usp=drive_link)__\n",
    "\n"
   ]
  },
  {
   "cell_type": "markdown",
   "id": "28b3612b",
   "metadata": {
    "deletable": false,
    "editable": false,
    "run_control": {
     "frozen": true
    }
   },
   "source": [
    "- ### See More Projects\n",
    "\n",
    "    - __[SQL]()__\n",
    "    -\n",
    "    -\n",
    "    -\n",
    "    -"
   ]
  },
  {
   "cell_type": "markdown",
   "id": "b06d9c2c",
   "metadata": {
    "deletable": false,
    "editable": false,
    "run_control": {
     "frozen": true
    }
   },
   "source": [
    "### Project Development and Author Information:\n",
    "- **Developed By :** *__[Bhushan Gawali](https://www.linkedin.com/in/bhushan-gawali-97b645233?utm_source=share&utm_campaign=share_via&utm_content=profile&utm_medium=android_app)__*\n",
    "- **Role :** *Data Analyst*\n",
    "- ***Contact Information :***  \n",
    "    - *__[Linkdin Profile](https://www.linkedin.com/in/bhushan-gawali-97b645233?utm_source=share&utm_campaign=share_via&utm_content=profile&utm_medium=android_app)__*\n",
    "    - *__[GitHub Profile](https://github.com/Bhushan148)__*\n",
    "    - *__[Email id](https://accounts.google.com/SignOutOptions?hl=en&continue=https://myaccount.google.com/%3Fpli%3D1&ec=GBRAwAE)__*\n",
    "    - *__[Contact With Whatsapp](https://wa.me/qr/45BQWP6TQQ24M1)__*\n",
    "    - *__[Instagram id](https://www.instagram.com/bhushangawali_148?igsh=ZXVkYXo4NnU3c2ps)__*\n",
    "    - *__[FaceBook id](https://www.facebook.com/bhushan.gawali.568)__*\n",
    "    - *__[Address Google](https://maps.app.goo.gl/H61hpmTTuFwPQuFLA)__*\n",
    "    - *__[Resume](https://drive.google.com/file/d/1gz5Iv59fybyrm8UBF_mJeJ6h7yQUwnnT/view?usp=drive_link)__*\n",
    "\n",
    "- **Date :** *[27/06/2024]()*\n",
    "\n",
    "- \n",
    "*This project was developed by __[Bhushan Gawali](https://www.linkedin.com/in/bhushan-gawali-97b645233?utm_source=share&utm_campaign=share_via&utm_content=profile&utm_medium=android_app)__. With expertise in data analysis and visualization, i am utilized MySQL for data extraction and Python libraries such as Pandas, Matplotlib, and Seaborn to create an interactive dashboard. The project aims to provide valuable insights into sales performance and customer trends, enhancing decision-making processes and understanding of customer behavior and regional sales patterns.*"
   ]
  },
  {
   "cell_type": "code",
   "execution_count": null,
   "id": "e3673052",
   "metadata": {
    "deletable": false,
    "editable": false,
    "run_control": {
     "frozen": true
    }
   },
   "outputs": [],
   "source": []
  }
 ],
 "metadata": {
  "deletable": false,
  "editable": false,
  "hide_input": false,
  "kernelspec": {
   "display_name": "Python 3 (ipykernel)",
   "language": "python",
   "name": "python3"
  },
  "language_info": {
   "codemirror_mode": {
    "name": "ipython",
    "version": 3
   },
   "file_extension": ".py",
   "mimetype": "text/x-python",
   "name": "python",
   "nbconvert_exporter": "python",
   "pygments_lexer": "ipython3",
   "version": "3.11.5"
  },
  "trusted": true
 },
 "nbformat": 4,
 "nbformat_minor": 5
}
